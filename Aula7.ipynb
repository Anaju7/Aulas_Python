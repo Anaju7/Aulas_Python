{
  "nbformat": 4,
  "nbformat_minor": 0,
  "metadata": {
    "colab": {
      "provenance": [],
      "collapsed_sections": [
        "8PqoTLrSZobx",
        "GivsO19DXyq5",
        "HCVC9rRWZtpi"
      ],
      "authorship_tag": "ABX9TyPPmX7GMl2NBJrnQZTPA8H7",
      "include_colab_link": true
    },
    "kernelspec": {
      "name": "python3",
      "display_name": "Python 3"
    },
    "language_info": {
      "name": "python"
    }
  },
  "cells": [
    {
      "cell_type": "markdown",
      "metadata": {
        "id": "view-in-github",
        "colab_type": "text"
      },
      "source": [
        "<a href=\"https://colab.research.google.com/github/Anaju7/Aulas_Python/blob/main/Aula7.ipynb\" target=\"_parent\"><img src=\"https://colab.research.google.com/assets/colab-badge.svg\" alt=\"Open In Colab\"/></a>"
      ]
    },
    {
      "cell_type": "markdown",
      "source": [
        "# Aula 07 - 07-10-2024"
      ],
      "metadata": {
        "id": "xsJjyzfN4dkj"
      }
    },
    {
      "cell_type": "markdown",
      "source": [
        "POO"
      ],
      "metadata": {
        "id": "-A1AdQP_EVOI"
      }
    },
    {
      "cell_type": "markdown",
      "source": [
        "#### Questão 1"
      ],
      "metadata": {
        "id": "8PqoTLrSZobx"
      }
    },
    {
      "cell_type": "code",
      "execution_count": null,
      "metadata": {
        "id": "WG9zSzWy4ES3"
      },
      "outputs": [],
      "source": [
        "class Livro:\n",
        "  def __init__(self,titulo = '', qtdPaginas = 0, autor = '', preco = 0):\n",
        "    self.titulo = titulo\n",
        "    self.qtdPaginas = qtdPaginas\n",
        "    self.autor = autor\n",
        "    self.__preco = preco\n",
        "\n",
        "  def getPreco(self):\n",
        "    return self.__preco\n",
        "\n",
        "  def setPreco(self, valor):\n",
        "    self.__preco = valor\n",
        "\n",
        "# livro1  =  Livro('guia dos mochileiros',400, 'Arthur Dent',42.75)\n",
        "\n",
        "# livro1.setPreco(41.75)\n",
        "# livro1.getPreco()\n"
      ]
    },
    {
      "cell_type": "code",
      "source": [
        "# Teste sua aplicação\n",
        "\n",
        "livro = Livro('O nome da rosa', 345, 'Umberto Eco', 50.0)\n",
        "ret = 0\n",
        "if(livro.titulo=='O nome da rosa'):\n",
        "    ret += 1\n",
        "if(livro.qtdPaginas==345):\n",
        "    ret += 1\n",
        "if(livro.autor=='Umberto Eco'):\n",
        "    ret += 1\n",
        "livro.__preco = 10.0\n",
        "if(livro.__preco != livro.getPreco()):\n",
        "    ret += 1\n",
        "if(livro.getPreco()==50.0):\n",
        "    ret += 1\n",
        "livro.setPreco(45.30)\n",
        "if(livro.getPreco()==45.30):\n",
        "    ret += 1\n",
        "if(ret==6):\n",
        "    print('Sua implementação está correta.')\n",
        "else:\n",
        "    print('Sua implementação NÃO está correta.')"
      ],
      "metadata": {
        "colab": {
          "base_uri": "https://localhost:8080/"
        },
        "id": "EAaiuswoTo8L",
        "outputId": "678d387c-9f52-49c6-f94b-a6ef787ebade"
      },
      "execution_count": null,
      "outputs": [
        {
          "output_type": "stream",
          "name": "stdout",
          "text": [
            "Sua implementação está correta.\n"
          ]
        }
      ]
    },
    {
      "cell_type": "markdown",
      "source": [
        "#### Questão 2\n"
      ],
      "metadata": {
        "id": "GivsO19DXyq5"
      }
    },
    {
      "cell_type": "code",
      "source": [
        "class Funcionario:\n",
        "  def __init__(self,nome = '', salario = 0):\n",
        "    self.nome = nome\n",
        "    self.salario = salario\n",
        "\n",
        "\n",
        "  def aumentarSalario(self, percAumento):\n",
        "    self.salario = self.salario*(1 + percAumento/100)\n",
        "\n",
        "  def info(self):\n",
        "    return f'Nome: {self.nome} - Salário: {self.salario}'\n",
        "\n",
        "\n",
        "harry = Funcionario('Harry', 2500)\n",
        "ret = 0\n",
        "if(harry.salario==2500):\n",
        "    ret += 1\n",
        "harry.aumentarSalario(10)\n",
        "if(harry.salario==2750):\n",
        "    ret += 1\n",
        "if(harry.info()=='Nome: Harry - Salário: 2750.0'):\n",
        "    ret += 1\n",
        "if(ret==3):\n",
        "    print('Sua implementação está correta.')\n",
        "else:\n",
        "    print('Sua implementação NÃO está correta.')\n"
      ],
      "metadata": {
        "colab": {
          "base_uri": "https://localhost:8080/"
        },
        "id": "pOCw9qtOXyO5",
        "outputId": "3465641b-ca17-41e9-fef6-53e88292f98c"
      },
      "execution_count": null,
      "outputs": [
        {
          "output_type": "stream",
          "name": "stdout",
          "text": [
            "Sua implementação está correta.\n"
          ]
        }
      ]
    },
    {
      "cell_type": "markdown",
      "source": [
        "#### Questão 3"
      ],
      "metadata": {
        "id": "HCVC9rRWZtpi"
      }
    },
    {
      "cell_type": "code",
      "source": [
        "class Carro:\n",
        "  def __init__(self,kilometragem = 0, cor = '',marca = '',modelo = '', placa = ''):\n",
        "    self.kilometragem = kilometragem\n",
        "    self._cor = cor\n",
        "    self.__placa = placa\n",
        "    self.__modelo = modelo\n",
        "    self.__marca = marca\n",
        "\n",
        "\n",
        "  def getMarca(self):\n",
        "    return self.__marca\n",
        "\n",
        "  def getModelo(self):\n",
        "    return self.__modelo\n",
        "\n",
        "  def getPlaca(self):\n",
        "    return self.__placa\n",
        "\n",
        "  def getCor(self):\n",
        "    return self._cor\n",
        "\n",
        "  def _injetarCombustivel(self):\n",
        "    print(\"Injetando combustível...\")\n",
        "\n",
        "  def __acionarPastilhaDeFreio(self):\n",
        "    print(\"Acionando freio...\")\n"
      ],
      "metadata": {
        "id": "lZdd94joZvjX"
      },
      "execution_count": null,
      "outputs": []
    },
    {
      "cell_type": "markdown",
      "source": [],
      "metadata": {
        "id": "cCvauMmFD5xu"
      }
    },
    {
      "cell_type": "markdown",
      "source": [
        "### Questões\n",
        "\n",
        "* Classes\n",
        "* Herança\n",
        "* Dependencias"
      ],
      "metadata": {
        "id": "R_oQWCWjcu4Y"
      }
    },
    {
      "cell_type": "code",
      "source": [
        "class Funcionario:\n",
        "  def __init__(self, nome = '', salario = 0):\n",
        "    self.__nome = nome\n",
        "    self.__salario = salario\n",
        "\n",
        "  def aumentarSalario(self, percentualDeAumento):\n",
        "    aumento = self.__salario * (percentualDeAumento / 100)\n",
        "    self.__salario += aumento\n",
        "\n",
        "  def getNome(self):\n",
        "    return self.__nome\n",
        "\n",
        "  def getSalario(self):\n",
        "    return self.__salario\n",
        "\n",
        "class Empresa:\n",
        "  def __init__(self):\n",
        "    self.__funcionario = []\n",
        "\n",
        "  def contratar(self, nome, salario):\n",
        "    funcionario = Funcionario(nome, salario)\n",
        "    self.__funcionario.append(funcionario)\n",
        "    print(f'Funcionario: {nome} contratado')\n",
        "\n",
        "  def demitir(self, nome):\n",
        "    for f in self.__funcionario:\n",
        "      if f.getNome() == nome:\n",
        "        self.__funcionario.remove(f)\n",
        "        print(f'Funcionario: {nome} demitido')\n",
        "\n",
        "  def darAumento(self, nome, percentualDeAumento):\n",
        "    for f in self.__funcionario:\n",
        "      if f.getNome() == nome:\n",
        "        f.aumentarSalario(percentualDeAumento)\n",
        "    print(f'Salario do funcionario {nome} aumentou {percentualDeAumento}')\n",
        "\n",
        "  def consultarSalario(self, nome):\n",
        "    for f in self.__funcionario:\n",
        "      if f.getNome() == nome:\n",
        "        return f.getSalario()\n",
        "\n",
        "  def quantidadeDeFuncionarios(self):\n",
        "    return len(self.__funcionario)\n"
      ],
      "metadata": {
        "id": "zxoS4vKddFNt"
      },
      "execution_count": null,
      "outputs": []
    },
    {
      "cell_type": "code",
      "source": [
        "empresa = Empresa()\n",
        "ret = 0\n",
        "if empresa.quantidadeDeFuncionarios() == 0:\n",
        "    ret += 1\n",
        "empresa.contratar('José', 1000)\n",
        "if empresa.quantidadeDeFuncionarios() == 1:\n",
        "    ret += 1\n",
        "empresa.contratar('Ana', 15600)\n",
        "if empresa.quantidadeDeFuncionarios() == 2:\n",
        "    ret += 1\n",
        "if empresa.consultarSalario('José') == 1000:\n",
        "    ret += 1\n",
        "empresa.darAumento('José', 10)\n",
        "if empresa.consultarSalario('José') == 1100:\n",
        "    ret += 1\n",
        "print(empresa.consultarSalario('José'))\n",
        "empresa.demitir('Ana')\n",
        "if empresa.quantidadeDeFuncionarios() == 1:\n",
        "    ret += 1\n",
        "empresa.demitir('José')\n",
        "if empresa.quantidadeDeFuncionarios() == 0:\n",
        "    ret += 1\n",
        "if ret == 7:\n",
        "    print('Sua implementação está correta.')\n",
        "else:\n",
        "    print('Sua implementação NÃO está correta.')"
      ],
      "metadata": {
        "colab": {
          "base_uri": "https://localhost:8080/"
        },
        "id": "Eq_MRxVIlAZw",
        "outputId": "0f29deaa-af3d-4501-eddc-712344a91590"
      },
      "execution_count": null,
      "outputs": [
        {
          "output_type": "stream",
          "name": "stdout",
          "text": [
            "Funcionario: José contratado\n",
            "Funcionario: Ana contratado\n",
            "Salario do funcionario José aumentou 10\n",
            "1100.0\n",
            "Funcionario: Ana demitido\n",
            "Funcionario: José demitido\n",
            "Sua implementação está correta.\n"
          ]
        }
      ]
    },
    {
      "cell_type": "markdown",
      "source": [
        "questão 02"
      ],
      "metadata": {
        "id": "FOSJNFf6lBX5"
      }
    },
    {
      "cell_type": "code",
      "source": [
        "class Membro:\n",
        "\n",
        "  def __init__(self, nome = '', dataDeNascimento = '', diciplinas = []):\n",
        "    self.__nome = nome\n",
        "    self.__dataDeNascimento = dataDeNascimento\n",
        "    self.__diciplinas = diciplinas\n",
        "\n",
        "  def getRelacionamento(self):\n",
        "    return self.__class__.__name__\n",
        "\n",
        "  def addDisciplina(self, diciplina):\n",
        "    for d in self.__diciplinas:\n",
        "      if d == diciplina:\n",
        "        return False\n",
        "    self.__diciplinas.append(diciplina)\n",
        "    return True\n",
        "\n",
        "  def removeDisciplina(self, diciplina):\n",
        "    for d in self.__diciplinas:\n",
        "      if d == diciplina:\n",
        "        self.__diciplinas.remove(diciplina)\n",
        "        return True\n",
        "    return False\n",
        "\n",
        "  def getDisciplinas(self):\n",
        "    return self.__diciplinas\n",
        "\n",
        "  def getDiciplina(self, diciplina):\n",
        "    for d in self.__diciplinas:\n",
        "      if d == diciplina:\n",
        "        return True"
      ],
      "metadata": {
        "id": "2g2gdG9mlDoX"
      },
      "execution_count": null,
      "outputs": []
    },
    {
      "cell_type": "code",
      "source": [
        "class Professor(Membro):\n",
        "\n",
        "  def __init__(self, nome = '', dataDeNascimento = '', salario = 0):\n",
        "    super().__init__(dataDeNascimento, nome)\n",
        "    self.__salario = salario\n",
        "\n",
        "  def getRelacionamento(self):\n",
        "    return __class__.__name__\n",
        "\n",
        "  def getSalario(self):\n",
        "    return self.__salario\n",
        "\n",
        "  def setSalario(self, salario):\n",
        "    self.__salario = salario"
      ],
      "metadata": {
        "id": "s6G0lnzlmuRd"
      },
      "execution_count": null,
      "outputs": []
    },
    {
      "cell_type": "code",
      "source": [
        "class Aluno(Membro):\n",
        "\n",
        "  def __init__(self, nome = '', dataDeNascimento = '', matricula = ''):\n",
        "    super().__init__(dataDeNascimento, nome)\n",
        "    self.__matricula = matricula\n",
        "\n",
        "  def getMatricula(self):\n",
        "    return self.__matricula\n",
        "\n",
        "  def setMatricula(self, matricula):\n",
        "    self.__matricula = matricula"
      ],
      "metadata": {
        "id": "pmRRmJFcnWlQ"
      },
      "execution_count": null,
      "outputs": []
    },
    {
      "cell_type": "code",
      "source": [
        "# Testando sua implementação:\n",
        "\n",
        "prof = Professor('João Afonso', '12/04/1987', 2000.00)\n",
        "aluno = Aluno('Tiago Nascimento', '23/12/1997', 1234)\n",
        "ret = 0\n",
        "try:\n",
        "    prof.__nome\n",
        "except AttributeError:\n",
        "    ret += 1\n",
        "try:\n",
        "    prof.__dataDeNascimento\n",
        "except AttributeError:\n",
        "    ret += 1\n",
        "try:\n",
        "    prof.__disciplinas\n",
        "except AttributeError:\n",
        "    ret += 1\n",
        "try:\n",
        "    prof.__salario\n",
        "except AttributeError:\n",
        "    ret += 1\n",
        "try:\n",
        "    aluno.__matricula\n",
        "except AttributeError:\n",
        "    ret += 1\n",
        "if(prof.getRelacionamento()=='Professor'):\n",
        "    ret += 1\n",
        "if(aluno.getRelacionamento()=='Aluno'):\n",
        "    ret += 1\n",
        "if(len(prof.getDisciplinas())==0):\n",
        "    ret += 1\n",
        "if(prof.addDisciplina('C126')==True):\n",
        "    ret += 1\n",
        "if(len(prof.getDisciplinas())==1):\n",
        "    ret += 1\n",
        "if(prof.addDisciplina('C126')==False):\n",
        "    ret += 1\n",
        "\n",
        "if(prof.removeDisciplina('C126')==True):\n",
        "    ret += 1\n",
        "\n",
        "if(len(prof.getDisciplinas())==0):\n",
        "    ret += 1\n",
        "\n",
        "if(prof.removeDisciplina('C126')==False):\n",
        "    ret += 1\n",
        "if(prof.getSalario()==2000.00):\n",
        "    ret += 1\n",
        "\n",
        "prof.setSalario(4000.00)\n",
        "if(prof.getSalario()==4000.00):\n",
        "    ret += 1\n",
        "\n",
        "if(len(aluno.getDisciplinas())==0):\n",
        "    ret += 1\n",
        "if(aluno.addDisciplina('C126')==True):\n",
        "    ret += 1\n",
        "if(len(aluno.getDisciplinas())==1):\n",
        "    ret += 1\n",
        "if(aluno.addDisciplina('C126')==False):\n",
        "    ret += 1\n",
        "if(aluno.removeDisciplina('C126')==True):\n",
        "    ret += 1\n",
        "if(len(aluno.getDisciplinas())==0):\n",
        "    ret += 1\n",
        "if(aluno.removeDisciplina('C126')==False):\n",
        "    ret += 1\n",
        "if(aluno.getMatricula()==1234):\n",
        "    ret += 1\n",
        "aluno.setMatricula(5678)\n",
        "if(aluno.getMatricula()==5678):\n",
        "    ret += 1\n",
        "if(ret==25):\n",
        "    print('Sua implementação está correta.')\n",
        "else:\n",
        "    print('Sua implementação NÃO está correta.')"
      ],
      "metadata": {
        "colab": {
          "base_uri": "https://localhost:8080/"
        },
        "id": "MxKP8b_my-qp",
        "outputId": "5e144964-fc28-4662-b4ce-d32cf217feb5"
      },
      "execution_count": null,
      "outputs": [
        {
          "output_type": "stream",
          "name": "stdout",
          "text": [
            "Sua implementação está correta.\n"
          ]
        }
      ]
    }
  ]
}