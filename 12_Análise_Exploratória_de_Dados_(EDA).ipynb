{
  "nbformat": 4,
  "nbformat_minor": 0,
  "metadata": {
    "colab": {
      "provenance": [],
      "include_colab_link": true
    },
    "kernelspec": {
      "name": "python3",
      "display_name": "Python 3"
    },
    "language_info": {
      "name": "python"
    }
  },
  "cells": [
    {
      "cell_type": "markdown",
      "metadata": {
        "id": "view-in-github",
        "colab_type": "text"
      },
      "source": [
        "<a href=\"https://colab.research.google.com/github/Anaju7/Aulas_Python/blob/main/12_An%C3%A1lise_Explorat%C3%B3ria_de_Dados_(EDA).ipynb\" target=\"_parent\"><img src=\"https://colab.research.google.com/assets/colab-badge.svg\" alt=\"Open In Colab\"/></a>"
      ]
    },
    {
      "cell_type": "markdown",
      "source": [
        "# Estruturas de Dados: Series e DataFrames"
      ],
      "metadata": {
        "id": "8uwLf40TRcjg"
      }
    },
    {
      "cell_type": "markdown",
      "source": [
        "## 1) Series em Pandas"
      ],
      "metadata": {
        "id": "9jmUOVP3Rt3K"
      }
    },
    {
      "cell_type": "markdown",
      "source": [
        "Uma Series é como uma coluna em uma tabela. É um objeto unidimensional contendo um array de dados (de qualquer tipo Numpy) e um array de rótulos, chamado de índice."
      ],
      "metadata": {
        "id": "XTHZugr-SEbf"
      }
    },
    {
      "cell_type": "code",
      "execution_count": null,
      "metadata": {
        "id": "j0_c89xWRbLL"
      },
      "outputs": [],
      "source": [
        "import pandas as pd"
      ]
    },
    {
      "cell_type": "code",
      "source": [
        "dados = pd.Series([5, 7, -5, 3])\n",
        "print(dados)"
      ],
      "metadata": {
        "colab": {
          "base_uri": "https://localhost:8080/"
        },
        "id": "F0YZBRSlSU0j",
        "outputId": "db756c9e-b60e-462a-ff2d-22c90c2988ff"
      },
      "execution_count": null,
      "outputs": [
        {
          "output_type": "stream",
          "name": "stdout",
          "text": [
            "0    5\n",
            "1    7\n",
            "2   -5\n",
            "3    3\n",
            "dtype: int64\n"
          ]
        }
      ]
    },
    {
      "cell_type": "code",
      "source": [
        "print(dados[0])"
      ],
      "metadata": {
        "colab": {
          "base_uri": "https://localhost:8080/"
        },
        "id": "2uPEhF-ZSjS0",
        "outputId": "da82c58b-b572-4563-c6be-c25965f5c764"
      },
      "execution_count": null,
      "outputs": [
        {
          "output_type": "stream",
          "name": "stdout",
          "text": [
            "5\n"
          ]
        }
      ]
    },
    {
      "cell_type": "markdown",
      "source": [
        "## DataFrames em Pandas"
      ],
      "metadata": {
        "id": "LbbSQ17ySp4s"
      }
    },
    {
      "cell_type": "code",
      "source": [
        "data = {\n",
        "    'Cidade': ['São Paulo', 'Rio de Janeiro', 'Recife'],\n",
        "    'População': [12.3, 6.7, 1.9],\n",
        "    'Ano': [1990, 1995, 2000]\n",
        "}\n",
        "\n",
        "frame = pd.DataFrame(data)\n",
        "print(frame)"
      ],
      "metadata": {
        "colab": {
          "base_uri": "https://localhost:8080/"
        },
        "id": "0NS91ZcCSuTl",
        "outputId": "0aeddd8e-df5c-4e29-b08b-02a5d74fc79a"
      },
      "execution_count": null,
      "outputs": [
        {
          "output_type": "stream",
          "name": "stdout",
          "text": [
            "           Cidade  População   Ano\n",
            "0       São Paulo       12.3  1990\n",
            "1  Rio de Janeiro        6.7  1995\n",
            "2          Recife        1.9  2000\n"
          ]
        }
      ]
    },
    {
      "cell_type": "markdown",
      "source": [
        "## Selecionando e Manupulando Dados"
      ],
      "metadata": {
        "id": "QYbeypV-XUIa"
      }
    },
    {
      "cell_type": "code",
      "source": [
        "print(frame['Cidade'])"
      ],
      "metadata": {
        "colab": {
          "base_uri": "https://localhost:8080/"
        },
        "id": "3efI83h3XYJM",
        "outputId": "2850f0eb-0e48-4bcc-a67b-2e4cb4d8fcb4"
      },
      "execution_count": null,
      "outputs": [
        {
          "output_type": "stream",
          "name": "stdout",
          "text": [
            "0         São Paulo\n",
            "1    Rio de Janeiro\n",
            "2            Recife\n",
            "Name: Cidade, dtype: object\n"
          ]
        }
      ]
    },
    {
      "cell_type": "code",
      "source": [
        "print(frame['População'] > 10.0)"
      ],
      "metadata": {
        "colab": {
          "base_uri": "https://localhost:8080/"
        },
        "id": "pceaP6PbXiJe",
        "outputId": "4f337ce2-fdb0-484c-e594-4a7d402da40e"
      },
      "execution_count": null,
      "outputs": [
        {
          "output_type": "stream",
          "name": "stdout",
          "text": [
            "0     True\n",
            "1    False\n",
            "2    False\n",
            "Name: População, dtype: bool\n"
          ]
        }
      ]
    },
    {
      "cell_type": "markdown",
      "source": [
        "## Indexação, Filtragem e Transformação"
      ],
      "metadata": {
        "id": "WF3oVqDAXxwG"
      }
    },
    {
      "cell_type": "markdown",
      "source": [
        "## Carregando dados"
      ],
      "metadata": {
        "id": "ZZ8mh_3LX4xf"
      }
    },
    {
      "cell_type": "code",
      "source": [
        "import pandas as pd\n",
        "from sklearn.datasets import load_iris"
      ],
      "metadata": {
        "id": "sbaEZe6wX21C"
      },
      "execution_count": null,
      "outputs": []
    },
    {
      "cell_type": "code",
      "source": [
        "iris = load_iris()\n",
        "\n",
        "df = pd.DataFrame(iris['data'], columns=iris['feature_names'])\n",
        "\n",
        "df['species'] = pd.Categorical.from_codes(iris.target, iris.target_names)\n",
        "\n",
        "print(df.head())"
      ],
      "metadata": {
        "colab": {
          "base_uri": "https://localhost:8080/"
        },
        "id": "tnewks6OYNJx",
        "outputId": "060627c3-c112-4c8b-d3a2-34a5e6d4ed34"
      },
      "execution_count": null,
      "outputs": [
        {
          "output_type": "stream",
          "name": "stdout",
          "text": [
            "   sepal length (cm)  sepal width (cm)  petal length (cm)  petal width (cm)  \\\n",
            "0                5.1               3.5                1.4               0.2   \n",
            "1                4.9               3.0                1.4               0.2   \n",
            "2                4.7               3.2                1.3               0.2   \n",
            "3                4.6               3.1                1.5               0.2   \n",
            "4                5.0               3.6                1.4               0.2   \n",
            "\n",
            "  species  \n",
            "0  setosa  \n",
            "1  setosa  \n",
            "2  setosa  \n",
            "3  setosa  \n",
            "4  setosa  \n"
          ]
        }
      ]
    },
    {
      "cell_type": "markdown",
      "source": [
        "![image.png](data:image/png;base64,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)"
      ],
      "metadata": {
        "id": "xrzQq7yoaDMz"
      }
    },
    {
      "cell_type": "markdown",
      "source": [
        "### Indexação e Seleção de Dados"
      ],
      "metadata": {
        "id": "r4ipDhszZqUH"
      }
    },
    {
      "cell_type": "code",
      "source": [
        "sepal_length = df['sepal length (cm)']\n",
        "print(sepal_length.head())"
      ],
      "metadata": {
        "colab": {
          "base_uri": "https://localhost:8080/"
        },
        "id": "ZIwE_R1XZqEU",
        "outputId": "5b574304-0d58-42bc-a8e1-1ad7979b787c"
      },
      "execution_count": null,
      "outputs": [
        {
          "output_type": "stream",
          "name": "stdout",
          "text": [
            "0    5.1\n",
            "1    4.9\n",
            "2    4.7\n",
            "3    4.6\n",
            "4    5.0\n",
            "Name: sepal length (cm), dtype: float64\n"
          ]
        }
      ]
    },
    {
      "cell_type": "code",
      "source": [
        "features = df[['sepal width (cm)', 'petal length (cm)']]\n",
        "print(features.head())"
      ],
      "metadata": {
        "colab": {
          "base_uri": "https://localhost:8080/"
        },
        "id": "AEJ7umJDakXm",
        "outputId": "d82e93b9-c8b8-4f56-cd52-37ff63b6bdc6"
      },
      "execution_count": null,
      "outputs": [
        {
          "output_type": "stream",
          "name": "stdout",
          "text": [
            "   sepal width (cm)  petal length (cm)\n",
            "0               3.5                1.4\n",
            "1               3.0                1.4\n",
            "2               3.2                1.3\n",
            "3               3.1                1.5\n",
            "4               3.6                1.4\n"
          ]
        }
      ]
    },
    {
      "cell_type": "code",
      "source": [
        "# Seleção de uma linha\n",
        "\n",
        "row = df.iloc[0]\n",
        "\n",
        "print(row)"
      ],
      "metadata": {
        "colab": {
          "base_uri": "https://localhost:8080/"
        },
        "id": "NsWwxvsLbE6Q",
        "outputId": "0b5e1fcd-fb01-4275-8bd7-9a7c1f76f7f6"
      },
      "execution_count": null,
      "outputs": [
        {
          "output_type": "stream",
          "name": "stdout",
          "text": [
            "sepal length (cm)       5.1\n",
            "sepal width (cm)        3.5\n",
            "petal length (cm)       1.4\n",
            "petal width (cm)        0.2\n",
            "species              setosa\n",
            "Name: 0, dtype: object\n"
          ]
        }
      ]
    },
    {
      "cell_type": "code",
      "source": [
        "five_rows = df.iloc[:5]\n",
        "\n",
        "print(five_rows)"
      ],
      "metadata": {
        "colab": {
          "base_uri": "https://localhost:8080/"
        },
        "id": "FOiRtmNCbToJ",
        "outputId": "fdbe6fb8-950b-4055-862a-976013c44817"
      },
      "execution_count": null,
      "outputs": [
        {
          "output_type": "stream",
          "name": "stdout",
          "text": [
            "   sepal length (cm)  sepal width (cm)  petal length (cm)  petal width (cm)  \\\n",
            "0                5.1               3.5                1.4               0.2   \n",
            "1                4.9               3.0                1.4               0.2   \n",
            "2                4.7               3.2                1.3               0.2   \n",
            "3                4.6               3.1                1.5               0.2   \n",
            "4                5.0               3.6                1.4               0.2   \n",
            "\n",
            "  species  \n",
            "0  setosa  \n",
            "1  setosa  \n",
            "2  setosa  \n",
            "3  setosa  \n",
            "4  setosa  \n"
          ]
        }
      ]
    },
    {
      "cell_type": "markdown",
      "source": [
        "### Filtragem de Dados"
      ],
      "metadata": {
        "id": "9-QY6Ol_cq4c"
      }
    },
    {
      "cell_type": "code",
      "source": [
        "long_sepals = df[df['sepal length (cm)'] > 5]\n",
        "\n",
        "print(long_sepals.head())"
      ],
      "metadata": {
        "colab": {
          "base_uri": "https://localhost:8080/"
        },
        "id": "oFAHjJZqcz8l",
        "outputId": "3d2d550d-7b49-44cd-d620-0fd4161600e7"
      },
      "execution_count": null,
      "outputs": [
        {
          "output_type": "stream",
          "name": "stdout",
          "text": [
            "    sepal length (cm)  sepal width (cm)  petal length (cm)  petal width (cm)  \\\n",
            "0                 5.1               3.5                1.4               0.2   \n",
            "5                 5.4               3.9                1.7               0.4   \n",
            "10                5.4               3.7                1.5               0.2   \n",
            "14                5.8               4.0                1.2               0.2   \n",
            "15                5.7               4.4                1.5               0.4   \n",
            "\n",
            "   species  \n",
            "0   setosa  \n",
            "5   setosa  \n",
            "10  setosa  \n",
            "14  setosa  \n",
            "15  setosa  \n"
          ]
        }
      ]
    },
    {
      "cell_type": "code",
      "source": [
        "filter_data = df[(df['sepal length (cm)'] > 5) & (df['sepal width (cm)'] > 3.5)]\n",
        "\n",
        "print(filter_data.head())"
      ],
      "metadata": {
        "colab": {
          "base_uri": "https://localhost:8080/"
        },
        "id": "tnRTxIkMdIEv",
        "outputId": "5662a475-0b71-4859-aea4-9f00d7f47eca"
      },
      "execution_count": null,
      "outputs": [
        {
          "output_type": "stream",
          "name": "stdout",
          "text": [
            "    sepal length (cm)  sepal width (cm)  petal length (cm)  petal width (cm)  \\\n",
            "5                 5.4               3.9                1.7               0.4   \n",
            "10                5.4               3.7                1.5               0.2   \n",
            "14                5.8               4.0                1.2               0.2   \n",
            "15                5.7               4.4                1.5               0.4   \n",
            "16                5.4               3.9                1.3               0.4   \n",
            "\n",
            "   species  \n",
            "5   setosa  \n",
            "10  setosa  \n",
            "14  setosa  \n",
            "15  setosa  \n",
            "16  setosa  \n"
          ]
        }
      ]
    },
    {
      "cell_type": "markdown",
      "source": [
        "### Transformação de Dados"
      ],
      "metadata": {
        "id": "n4gotgm6eMlL"
      }
    },
    {
      "cell_type": "code",
      "source": [
        "# Adicionando uma nova coluna\n",
        "\n",
        "df['sepal area (cm^2)'] = df['sepal length (cm)'] * df['sepal width (cm)']\n",
        "print(df.head())"
      ],
      "metadata": {
        "colab": {
          "base_uri": "https://localhost:8080/"
        },
        "id": "eux6ak-gedEd",
        "outputId": "537df1fe-7c8a-4d12-ca93-602634b41ab0"
      },
      "execution_count": null,
      "outputs": [
        {
          "output_type": "stream",
          "name": "stdout",
          "text": [
            "   sepal length (cm)  sepal width (cm)  petal length (cm)  petal width (cm)  \\\n",
            "0                5.1               3.5                1.4               0.2   \n",
            "1                4.9               3.0                1.4               0.2   \n",
            "2                4.7               3.2                1.3               0.2   \n",
            "3                4.6               3.1                1.5               0.2   \n",
            "4                5.0               3.6                1.4               0.2   \n",
            "\n",
            "  species  sepal area (cm^2)  \n",
            "0  setosa              17.85  \n",
            "1  setosa              14.70  \n",
            "2  setosa              15.04  \n",
            "3  setosa              14.26  \n",
            "4  setosa              18.00  \n"
          ]
        }
      ]
    },
    {
      "cell_type": "code",
      "source": [
        "# Modificar colunas existentes"
      ],
      "metadata": {
        "id": "EHAy5mPafERG"
      },
      "execution_count": null,
      "outputs": []
    },
    {
      "cell_type": "code",
      "source": [
        "df['sepal length (cm)'] = df['sepal length (cm)'] * 2\n",
        "print(df.head())"
      ],
      "metadata": {
        "colab": {
          "base_uri": "https://localhost:8080/"
        },
        "id": "shhh2p-TfIqd",
        "outputId": "fd61bfb8-a220-4681-d0b7-9f5f7ce6a5bf"
      },
      "execution_count": null,
      "outputs": [
        {
          "output_type": "stream",
          "name": "stdout",
          "text": [
            "   sepal length (cm)  sepal width (cm)  petal length (cm)  petal width (cm)  \\\n",
            "0               10.2               3.5                1.4               0.2   \n",
            "1                9.8               3.0                1.4               0.2   \n",
            "2                9.4               3.2                1.3               0.2   \n",
            "3                9.2               3.1                1.5               0.2   \n",
            "4               10.0               3.6                1.4               0.2   \n",
            "\n",
            "  species  sepal area (cm^2)  \n",
            "0  setosa              17.85  \n",
            "1  setosa              14.70  \n",
            "2  setosa              15.04  \n",
            "3  setosa              14.26  \n",
            "4  setosa              18.00  \n"
          ]
        }
      ]
    },
    {
      "cell_type": "markdown",
      "source": [
        "## Exercícios\n",
        "\n",
        "\n",
        "1. Selecione e imprima as primeiras 10 linhas das colunas 'petal length (mm)' e 'species'.\n",
        "2. Filtre e imprima as linhas do DataFrame onde a 'petal length (mm)' é maior que 15 mm e a espécie é 'virginica'.\n",
        "3. Adicione uma nova coluna chamada 'petal area (cm^2)' calculada a partir do comprimento e largura da pétala.\n",
        "4. Converta a 'petal width (cm)' para milímetros e atualize a coluna correspondente."
      ],
      "metadata": {
        "id": "6BVsFnCFfyzA"
      }
    }
  ]
}