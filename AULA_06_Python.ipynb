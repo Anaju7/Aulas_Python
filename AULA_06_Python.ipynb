{
  "nbformat": 4,
  "nbformat_minor": 0,
  "metadata": {
    "colab": {
      "provenance": [],
      "toc_visible": true,
      "include_colab_link": true
    },
    "kernelspec": {
      "name": "python3",
      "display_name": "Python 3"
    },
    "language_info": {
      "name": "python"
    }
  },
  "cells": [
    {
      "cell_type": "markdown",
      "metadata": {
        "id": "view-in-github",
        "colab_type": "text"
      },
      "source": [
        "<a href=\"https://colab.research.google.com/github/Anaju7/Aulas_Python/blob/main/AULA_06_Python.ipynb\" target=\"_parent\"><img src=\"https://colab.research.google.com/assets/colab-badge.svg\" alt=\"Open In Colab\"/></a>"
      ]
    },
    {
      "cell_type": "markdown",
      "source": [
        "# Tratamentos de erros e exceções"
      ],
      "metadata": {
        "id": "dsvZ9EdOKk7X"
      }
    },
    {
      "cell_type": "markdown",
      "source": [
        "\n",
        "\n",
        "*   NameError: variável não definida\n",
        "*   TypeError: tipos de dados incompatíveis\n",
        "*   RunTimeError: erro de execução\n",
        "*   SyntaxError: sintaxe digitada é inválida e não reconhecida pelo interpretador\n",
        "*   ZeroDivisonError: divisão por zero\n",
        "*   IndexError: índice está fora da coleção\n",
        "\n",
        "\n",
        "\n",
        "\n",
        "\n"
      ],
      "metadata": {
        "id": "51zjWk0sKvZg"
      }
    },
    {
      "cell_type": "markdown",
      "source": [
        "## Tipos de erros"
      ],
      "metadata": {
        "id": "T8-Er5lTL2xH"
      }
    },
    {
      "cell_type": "code",
      "source": [
        "3 = 4"
      ],
      "metadata": {
        "colab": {
          "base_uri": "https://localhost:8080/",
          "height": 106
        },
        "id": "6CtLOdErRcWM",
        "outputId": "336f47b1-c4ef-4325-d700-95786911121a"
      },
      "execution_count": null,
      "outputs": [
        {
          "output_type": "error",
          "ename": "SyntaxError",
          "evalue": "cannot assign to literal here. Maybe you meant '==' instead of '='? (<ipython-input-1-effb9ca1a7d0>, line 1)",
          "traceback": [
            "\u001b[0;36m  File \u001b[0;32m\"<ipython-input-1-effb9ca1a7d0>\"\u001b[0;36m, line \u001b[0;32m1\u001b[0m\n\u001b[0;31m    3 = 4\u001b[0m\n\u001b[0m    ^\u001b[0m\n\u001b[0;31mSyntaxError\u001b[0m\u001b[0;31m:\u001b[0m cannot assign to literal here. Maybe you meant '==' instead of '='?\n"
          ]
        }
      ]
    },
    {
      "cell_type": "code",
      "source": [
        "print('Meu nome é', nome)"
      ],
      "metadata": {
        "colab": {
          "base_uri": "https://localhost:8080/",
          "height": 141
        },
        "id": "GAilkfXcV0oi",
        "outputId": "ba4522fd-0a69-4404-84ed-39e8adc68f85"
      },
      "execution_count": null,
      "outputs": [
        {
          "output_type": "error",
          "ename": "NameError",
          "evalue": "name 'nome' is not defined",
          "traceback": [
            "\u001b[0;31m---------------------------------------------------------------------------\u001b[0m",
            "\u001b[0;31mNameError\u001b[0m                                 Traceback (most recent call last)",
            "\u001b[0;32m<ipython-input-2-8814f7563975>\u001b[0m in \u001b[0;36m<cell line: 1>\u001b[0;34m()\u001b[0m\n\u001b[0;32m----> 1\u001b[0;31m \u001b[0mprint\u001b[0m\u001b[0;34m(\u001b[0m\u001b[0;34m'Meu nome é'\u001b[0m\u001b[0;34m,\u001b[0m \u001b[0mnome\u001b[0m\u001b[0;34m)\u001b[0m\u001b[0;34m\u001b[0m\u001b[0;34m\u001b[0m\u001b[0m\n\u001b[0m",
            "\u001b[0;31mNameError\u001b[0m: name 'nome' is not defined"
          ]
        }
      ]
    },
    {
      "cell_type": "code",
      "source": [
        "print(3/0)"
      ],
      "metadata": {
        "colab": {
          "base_uri": "https://localhost:8080/",
          "height": 141
        },
        "id": "KmlCU8u7WBT4",
        "outputId": "08a2f035-8938-4ae5-b9b4-b67c9165f1e3"
      },
      "execution_count": null,
      "outputs": [
        {
          "output_type": "error",
          "ename": "ZeroDivisionError",
          "evalue": "division by zero",
          "traceback": [
            "\u001b[0;31m---------------------------------------------------------------------------\u001b[0m",
            "\u001b[0;31mZeroDivisionError\u001b[0m                         Traceback (most recent call last)",
            "\u001b[0;32m<ipython-input-3-01a2217119a3>\u001b[0m in \u001b[0;36m<cell line: 1>\u001b[0;34m()\u001b[0m\n\u001b[0;32m----> 1\u001b[0;31m \u001b[0mprint\u001b[0m\u001b[0;34m(\u001b[0m\u001b[0;36m3\u001b[0m\u001b[0;34m/\u001b[0m\u001b[0;36m0\u001b[0m\u001b[0;34m)\u001b[0m\u001b[0;34m\u001b[0m\u001b[0;34m\u001b[0m\u001b[0m\n\u001b[0m",
            "\u001b[0;31mZeroDivisionError\u001b[0m: division by zero"
          ]
        }
      ]
    },
    {
      "cell_type": "code",
      "source": [
        "2.3 / 'cachorro'"
      ],
      "metadata": {
        "colab": {
          "base_uri": "https://localhost:8080/",
          "height": 141
        },
        "id": "ov0RS9abWS-w",
        "outputId": "7e3f075c-9e4f-4cec-a529-0d49323f1056"
      },
      "execution_count": null,
      "outputs": [
        {
          "output_type": "error",
          "ename": "TypeError",
          "evalue": "unsupported operand type(s) for /: 'float' and 'str'",
          "traceback": [
            "\u001b[0;31m---------------------------------------------------------------------------\u001b[0m",
            "\u001b[0;31mTypeError\u001b[0m                                 Traceback (most recent call last)",
            "\u001b[0;32m<ipython-input-4-48ef6fd474fe>\u001b[0m in \u001b[0;36m<cell line: 1>\u001b[0;34m()\u001b[0m\n\u001b[0;32m----> 1\u001b[0;31m \u001b[0;36m2.3\u001b[0m \u001b[0;34m/\u001b[0m \u001b[0;34m'cachorro'\u001b[0m\u001b[0;34m\u001b[0m\u001b[0;34m\u001b[0m\u001b[0m\n\u001b[0m",
            "\u001b[0;31mTypeError\u001b[0m: unsupported operand type(s) for /: 'float' and 'str'"
          ]
        }
      ]
    },
    {
      "cell_type": "code",
      "source": [
        "c = [1, 2, 3, 4, 5]\n",
        "\n",
        "c"
      ],
      "metadata": {
        "colab": {
          "base_uri": "https://localhost:8080/"
        },
        "id": "0AmvrMUZYACc",
        "outputId": "ebb04f1d-354e-4a11-c3e2-824f04415f60"
      },
      "execution_count": null,
      "outputs": [
        {
          "output_type": "execute_result",
          "data": {
            "text/plain": [
              "[1, 2, 3, 4, 5]"
            ]
          },
          "metadata": {},
          "execution_count": 5
        }
      ]
    },
    {
      "cell_type": "code",
      "source": [
        "c[5]"
      ],
      "metadata": {
        "colab": {
          "base_uri": "https://localhost:8080/",
          "height": 141
        },
        "id": "mr_cS0k5YFos",
        "outputId": "c8e01703-c67c-48e0-9512-1dbe93523ace"
      },
      "execution_count": null,
      "outputs": [
        {
          "output_type": "error",
          "ename": "IndexError",
          "evalue": "list index out of range",
          "traceback": [
            "\u001b[0;31m---------------------------------------------------------------------------\u001b[0m",
            "\u001b[0;31mIndexError\u001b[0m                                Traceback (most recent call last)",
            "\u001b[0;32m<ipython-input-6-513c54dffebd>\u001b[0m in \u001b[0;36m<cell line: 1>\u001b[0;34m()\u001b[0m\n\u001b[0;32m----> 1\u001b[0;31m \u001b[0mc\u001b[0m\u001b[0;34m[\u001b[0m\u001b[0;36m5\u001b[0m\u001b[0;34m]\u001b[0m\u001b[0;34m\u001b[0m\u001b[0;34m\u001b[0m\u001b[0m\n\u001b[0m",
            "\u001b[0;31mIndexError\u001b[0m: list index out of range"
          ]
        }
      ]
    },
    {
      "cell_type": "markdown",
      "source": [
        "## Tratamento de erros"
      ],
      "metadata": {
        "id": "alGBddbMNuIK"
      }
    },
    {
      "cell_type": "code",
      "source": [
        "try: #tentar\n",
        "  n = int(input('Digite um número inteiro: '))\n",
        "except:\n",
        "  print('Valor inválido!')\n",
        "\n",
        "else:\n",
        "  print('Valor digitado foi: ', n)"
      ],
      "metadata": {
        "colab": {
          "base_uri": "https://localhost:8080/"
        },
        "id": "_5OqFmB5Rdq8",
        "outputId": "ee780517-260f-44b8-c68d-e377bd460387"
      },
      "execution_count": null,
      "outputs": [
        {
          "output_type": "stream",
          "name": "stdout",
          "text": [
            "Digite um número inteiro: 6\n",
            "Valor digitado foi:  6\n"
          ]
        }
      ]
    },
    {
      "cell_type": "code",
      "source": [
        "while True:\n",
        "  try:\n",
        "    n = int(input('Digite um número inteiro: '))\n",
        "  except:\n",
        "    print('Valor inválido!')\n",
        "  else:\n",
        "    print('Valor digitado foi: ', n)\n",
        "    break"
      ],
      "metadata": {
        "colab": {
          "base_uri": "https://localhost:8080/"
        },
        "id": "FLEHx1htZ02J",
        "outputId": "b4a0e5e0-75b9-4462-e118-0a52a89aab65"
      },
      "execution_count": null,
      "outputs": [
        {
          "output_type": "stream",
          "name": "stdout",
          "text": [
            "Digite um número inteiro: t\n",
            "Valor inválido!\n",
            "Digite um número inteiro: h\n",
            "Valor inválido!\n",
            "Digite um número inteiro: 6\n",
            "Valor digitado foi:  6\n"
          ]
        }
      ]
    },
    {
      "cell_type": "code",
      "source": [
        "while True:\n",
        "  try:\n",
        "    n = int(input('Digite um número inteiro: '))\n",
        "  except KeyboardInterrupt:\n",
        "    print('Usuáro interrompeu a execução!')\n",
        "    break\n",
        "  except ValueError:\n",
        "    print('Erro de tipo!')\n",
        "\n",
        "  else:\n",
        "    print('Valor digitado foi: ', n)\n",
        "    break"
      ],
      "metadata": {
        "colab": {
          "base_uri": "https://localhost:8080/"
        },
        "id": "ZnWf90bIbEBk",
        "outputId": "00e442e8-8c94-4cb9-e32a-b5c7f7595015"
      },
      "execution_count": null,
      "outputs": [
        {
          "output_type": "stream",
          "name": "stdout",
          "text": [
            "Digite um número inteiro: h\n",
            "Erro de tipo!\n",
            "Usuáro interrompeu a execução!\n"
          ]
        }
      ]
    },
    {
      "cell_type": "markdown",
      "source": [
        "## Exercício 1\n",
        "\n",
        "Crie uma lista vazia e faça a leitura de dois valores do tipo float, colocando cada um dos valores nas primeiras posições da lista (o valor1 ficará na posição 0 da lista e o valor2 ficará na posição 1 da lista). Faça a divisão dos dois valores e trate as seguintes exceções\n",
        "- ValueError: se o usuário digitar um caracter\n",
        "- ZeroDivisionError: se o usuário digitar zero e ocorrer erro na divisão\n",
        "- IndexError: caso a divisão seja feita levando em consideração posições que não existem na lista\n",
        "- KeyboardInterrupt: caso o usuário interrompa a execução\n",
        "\n",
        "Mostra uma mensagem personalizada na ocorrência de cada um desses erros"
      ],
      "metadata": {
        "id": "y8FbbsiWR9vB"
      }
    },
    {
      "cell_type": "code",
      "source": [
        "lista = []\n",
        "\n",
        "try:\n",
        "  lista.append(float(input('Digite o primeiro valor: ')))\n",
        "  lista.append(float(input('Digite outro valor: ')))\n",
        "\n",
        "  divisao = lista[0] / lista[1]\n",
        "except ValueError:\n",
        "  print('Erro! Valor inválido!')\n",
        "except ZeroDivisionError:\n",
        "  print('Erro! Divisão por zero.')\n",
        "except IndexError:\n",
        "  print('Erro! Indice não é válido.')\n",
        "except KeyboardInterrupt:\n",
        "  print('Usuáro interrompeu a execução!')\n",
        "else:\n",
        "  print('A divisão é: ', divisao)"
      ],
      "metadata": {
        "colab": {
          "base_uri": "https://localhost:8080/"
        },
        "id": "W9eKrRPoRfP0",
        "outputId": "cac41c59-bf13-4a1f-8e73-4a15b2c91ad4"
      },
      "execution_count": null,
      "outputs": [
        {
          "output_type": "stream",
          "name": "stdout",
          "text": [
            "Usuáro interrompeu a execução!\n"
          ]
        }
      ]
    },
    {
      "cell_type": "markdown",
      "source": [
        "# Expressões regulares"
      ],
      "metadata": {
        "id": "-MEaYVovX0sN"
      }
    },
    {
      "cell_type": "markdown",
      "source": [
        "## Função search"
      ],
      "metadata": {
        "id": "SnG8se8CX388"
      }
    },
    {
      "cell_type": "code",
      "source": [
        "import re"
      ],
      "metadata": {
        "id": "hDQ5Y_1xRglI"
      },
      "execution_count": null,
      "outputs": []
    },
    {
      "cell_type": "code",
      "source": [
        "frase = 'O número que me ligou ontem foi o (55)94002-8922'"
      ],
      "metadata": {
        "id": "pGuo9ADpitkF"
      },
      "execution_count": null,
      "outputs": []
    },
    {
      "cell_type": "code",
      "source": [
        "re.search('\\(\\d{2}\\)\\d{4,5}-\\d{4}' , frase)"
      ],
      "metadata": {
        "colab": {
          "base_uri": "https://localhost:8080/"
        },
        "id": "7v1JE_GUi8tz",
        "outputId": "02ed7ba0-d23d-4df0-a74c-3318c15aa65f"
      },
      "execution_count": null,
      "outputs": [
        {
          "output_type": "execute_result",
          "data": {
            "text/plain": [
              "<re.Match object; span=(34, 47), match='(55)4002-8922'>"
            ]
          },
          "metadata": {},
          "execution_count": 18
        }
      ]
    },
    {
      "cell_type": "code",
      "source": [
        "frase2 = 'O carro que passou por cima do cachorro tem a placa pqR-3033'"
      ],
      "metadata": {
        "id": "yV5cKS7IkYLM"
      },
      "execution_count": null,
      "outputs": []
    },
    {
      "cell_type": "code",
      "source": [
        "re.search('[A-Za-z]{3}-\\d{4}', frase2)"
      ],
      "metadata": {
        "colab": {
          "base_uri": "https://localhost:8080/"
        },
        "id": "0FFLHwrSkjXd",
        "outputId": "e4b976f5-9145-4b0d-8424-61eccbd38c3f"
      },
      "execution_count": null,
      "outputs": [
        {
          "output_type": "execute_result",
          "data": {
            "text/plain": [
              "<re.Match object; span=(52, 60), match='pqR-3033'>"
            ]
          },
          "metadata": {},
          "execution_count": 28
        }
      ]
    },
    {
      "cell_type": "code",
      "source": [
        "email = 'Fale com Gabi pelo email gabi123@teste.com'"
      ],
      "metadata": {
        "id": "My1H5dKslpJR"
      },
      "execution_count": null,
      "outputs": []
    },
    {
      "cell_type": "code",
      "source": [
        "re.search('\\w+@\\w+\\.com',email)"
      ],
      "metadata": {
        "colab": {
          "base_uri": "https://localhost:8080/"
        },
        "id": "HAEACbaTl0ej",
        "outputId": "eff1e23a-3b5d-4b2b-9055-c5beee9daa4c"
      },
      "execution_count": null,
      "outputs": [
        {
          "output_type": "execute_result",
          "data": {
            "text/plain": [
              "<re.Match object; span=(25, 42), match='gabi123@teste.com'>"
            ]
          },
          "metadata": {},
          "execution_count": 32
        }
      ]
    },
    {
      "cell_type": "markdown",
      "source": [
        "## Função Match"
      ],
      "metadata": {
        "id": "WE6al1W_f1em"
      }
    },
    {
      "cell_type": "code",
      "source": [
        "frase = 'A placa de carro que eu anotei durante a batida foi FRT-1996'"
      ],
      "metadata": {
        "id": "brh_U7MSRi4O"
      },
      "execution_count": null,
      "outputs": []
    },
    {
      "cell_type": "code",
      "source": [
        "print(re.match('[A-Za-z]{3}-\\d{4}', frase))"
      ],
      "metadata": {
        "colab": {
          "base_uri": "https://localhost:8080/"
        },
        "id": "XPi-aAWEohj0",
        "outputId": "3eefb7b7-dc26-4a17-c00d-25f4ad0dd297"
      },
      "execution_count": null,
      "outputs": [
        {
          "output_type": "stream",
          "name": "stdout",
          "text": [
            "None\n"
          ]
        }
      ]
    },
    {
      "cell_type": "code",
      "source": [
        "frase2 = 'ABC-1984 é a placa do carro que bateu em Clara'"
      ],
      "metadata": {
        "id": "i6N8XXDdotuy"
      },
      "execution_count": null,
      "outputs": []
    },
    {
      "cell_type": "code",
      "source": [
        "print(re.match('[A-Za-z]{3}-\\d{4}', frase2))"
      ],
      "metadata": {
        "colab": {
          "base_uri": "https://localhost:8080/"
        },
        "id": "2ZTgv1MEo1s0",
        "outputId": "7c752d6c-035c-4ff0-eabf-f1613b638d76"
      },
      "execution_count": null,
      "outputs": [
        {
          "output_type": "stream",
          "name": "stdout",
          "text": [
            "<re.Match object; span=(0, 8), match='ABC-1984'>\n"
          ]
        }
      ]
    },
    {
      "cell_type": "markdown",
      "source": [
        "## Função findall"
      ],
      "metadata": {
        "id": "i_GrDPfygzrz"
      }
    },
    {
      "cell_type": "code",
      "source": [
        "frase3 = 'Meu número de telefone atual é (42)33345-9875. O número (81)97534-1221 é o antigo. O (81)97534-1221 pertence a outra pessoa agora.'"
      ],
      "metadata": {
        "id": "WrDs5YsjRk3G"
      },
      "execution_count": null,
      "outputs": []
    },
    {
      "cell_type": "code",
      "source": [
        "re.findall('\\(\\d{2}\\)\\d{4,5}-\\d{4}', frase3)"
      ],
      "metadata": {
        "colab": {
          "base_uri": "https://localhost:8080/"
        },
        "id": "thuZcuAjp1J8",
        "outputId": "48e64756-3fe8-47d2-8231-6f9491648686"
      },
      "execution_count": null,
      "outputs": [
        {
          "output_type": "execute_result",
          "data": {
            "text/plain": [
              "['(42)33345-9875', '(81)97534-1221', '(81)97534-1221']"
            ]
          },
          "metadata": {},
          "execution_count": 41
        }
      ]
    },
    {
      "cell_type": "code",
      "source": [
        "email= 'teste1@teste.com, teste2@teste.com, teste3@teste.com.br'"
      ],
      "metadata": {
        "id": "au4P7mAHqUZW"
      },
      "execution_count": null,
      "outputs": []
    },
    {
      "cell_type": "code",
      "source": [
        "re.findall('\\w+@\\w+\\.\\w+\\.?\\w+', email)"
      ],
      "metadata": {
        "colab": {
          "base_uri": "https://localhost:8080/"
        },
        "id": "P89LW9nMqdou",
        "outputId": "bc071dde-3e17-4ffb-d4df-da764293b040"
      },
      "execution_count": null,
      "outputs": [
        {
          "output_type": "execute_result",
          "data": {
            "text/plain": [
              "['teste1@teste.com', 'teste2@teste.com', 'teste3@teste.com.br']"
            ]
          },
          "metadata": {},
          "execution_count": 46
        }
      ]
    },
    {
      "cell_type": "markdown",
      "source": [
        "### 1. Exercícios\n",
        "\n",
        "Crie expressões regulares para extrair as seguintes informações do texto abaixo (use a função findall):\n",
        "- Números\n",
        "- CEPs\n",
        "- URLs\n",
        "\n",
        "\n",
        "### 2.Questão sobre validação de senhas:\n",
        "Imagine que você está desenvolvendo um sistema de cadastro de usuários e precisa validar as senhas inseridas pelos usuários. As regras para uma senha válida são as seguintes:\n",
        "1. Deve conter pelo menos 8 caracteres.\n",
        "2. Deve conter pelo menos uma letra maiúscula.\n",
        "3. Deve conter pelo menos uma letra minúscula.\n",
        "4. Deve conter pelo menos um dígito (número).\n",
        "5. Pode conter caracteres especiais, como \"@\", \"#\", \"$\", \"%\", etc.\n",
        "\n",
        "Crie uma expressão regular que valide senhas de acordo com essas regras. Por exemplo, a senha \"Abc12345\" seria válida, mas \"senha\" não seria.\n",
        "\n",
        "Dica: Você pode usar grupos de captura para verificar cada uma das condições acima.\n",
        "\n",
        "### 3. Exercício: Extração de Dados de uma URL\n",
        "\n",
        "1. **Definição da Função Extrair Dados**\n",
        "   - Crie uma função chamada `extrair_dados_url` que utilize expressões regulares para extrair o protocolo, o domínio e o caminho de uma URL.\n",
        "   - A URL pode seguir os seguintes formatos:\n",
        "     - `http://example.com/path/to/page`\n",
        "     - `https://www.example.com`\n",
        "     - `ftp://files.example.com/downloads`\n",
        "     - `http://subdomain.example.co.uk/path`"
      ],
      "metadata": {
        "id": "hfTrFJcbmdNi"
      }
    },
    {
      "cell_type": "code",
      "source": [
        "# Testando a função\n",
        "senhas = [\"Abc12345\", \"senha\", \"12345678\", \"Abcdefgh\", \"ABCDEFGH\", \"abcdefgh\", \"Ab1@\", \"Abc@1234\"]"
      ],
      "metadata": {
        "id": "21ob4LlIRpCE"
      },
      "execution_count": null,
      "outputs": []
    }
  ]
}