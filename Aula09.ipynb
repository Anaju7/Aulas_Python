{
  "nbformat": 4,
  "nbformat_minor": 0,
  "metadata": {
    "colab": {
      "provenance": [],
      "authorship_tag": "ABX9TyMS7FdFsas92IVu7zKOkumU",
      "include_colab_link": true
    },
    "kernelspec": {
      "name": "python3",
      "display_name": "Python 3"
    },
    "language_info": {
      "name": "python"
    }
  },
  "cells": [
    {
      "cell_type": "markdown",
      "metadata": {
        "id": "view-in-github",
        "colab_type": "text"
      },
      "source": [
        "<a href=\"https://colab.research.google.com/github/Anaju7/Aulas_Python/blob/main/Aula09.ipynb\" target=\"_parent\"><img src=\"https://colab.research.google.com/assets/colab-badge.svg\" alt=\"Open In Colab\"/></a>"
      ]
    },
    {
      "cell_type": "markdown",
      "source": [
        "#Aula 09 - 14/10/2024"
      ],
      "metadata": {
        "id": "RQADETZv4p-B"
      }
    },
    {
      "cell_type": "markdown",
      "source": [
        "## Estatistica e medias"
      ],
      "metadata": {
        "id": "8rVjy2Kr4vzv"
      }
    },
    {
      "cell_type": "code",
      "source": [
        "import numpy as np"
      ],
      "metadata": {
        "id": "liFQ569o4pZC"
      },
      "execution_count": null,
      "outputs": []
    },
    {
      "cell_type": "markdown",
      "source": [
        "Medias:"
      ],
      "metadata": {
        "id": "Zd5Uif_37Arm"
      }
    },
    {
      "cell_type": "code",
      "execution_count": null,
      "metadata": {
        "colab": {
          "base_uri": "https://localhost:8080/"
        },
        "id": "op-dirOz4oVg",
        "outputId": "f4dbb70f-d533-4527-9f7e-a85b4607349e"
      },
      "outputs": [
        {
          "output_type": "stream",
          "name": "stdout",
          "text": [
            "3.0\n"
          ]
        }
      ],
      "source": [
        "arr = np.array([1,2,3,4,5])\n",
        "media = np.mean(arr)\n",
        "print(media)"
      ]
    },
    {
      "cell_type": "markdown",
      "source": [
        "Mediana"
      ],
      "metadata": {
        "id": "o4jHwuYe8BrT"
      }
    },
    {
      "cell_type": "code",
      "source": [
        "arr = np.array([1,2,3,4,5])\n",
        "mediana = np.median(arr)\n",
        "print(mediana)"
      ],
      "metadata": {
        "colab": {
          "base_uri": "https://localhost:8080/"
        },
        "id": "4a2xN1El8HYu",
        "outputId": "2894c7aa-1fd5-4feb-a771-50fb8a3abb88"
      },
      "execution_count": null,
      "outputs": [
        {
          "output_type": "stream",
          "name": "stdout",
          "text": [
            "3.0\n"
          ]
        }
      ]
    },
    {
      "cell_type": "markdown",
      "source": [
        "Medias de dispersão"
      ],
      "metadata": {
        "id": "f1cDtI9X8Zzg"
      }
    },
    {
      "cell_type": "markdown",
      "source": [
        "* Desvio Padrão <br>\n",
        "Variancia"
      ],
      "metadata": {
        "id": "_P1DHdr_8oGL"
      }
    },
    {
      "cell_type": "code",
      "source": [
        "std_value = np.std(arr)\n",
        "print(std_value)\n",
        "\n",
        "# Variancia\n",
        "# distribuição dos dados\n",
        "var = np.var(arr)\n",
        "print(var)"
      ],
      "metadata": {
        "colab": {
          "base_uri": "https://localhost:8080/"
        },
        "id": "Xxcmyfjs8flf",
        "outputId": "6abba7c8-4b25-4939-c64a-2c6d2445c48b"
      },
      "execution_count": null,
      "outputs": [
        {
          "output_type": "stream",
          "name": "stdout",
          "text": [
            "1.4142135623730951\n",
            "2.0\n"
          ]
        }
      ]
    },
    {
      "cell_type": "markdown",
      "source": [
        "Medidas de Posição"
      ],
      "metadata": {
        "id": "SdK8Xeh7-V1K"
      }
    },
    {
      "cell_type": "markdown",
      "source": [
        "* Percentis\n",
        "\n",
        "Percentis indicam a posição relativa de um valor dentro de um conjunto de dados.\n",
        "\n",
        "Percentil 25(P25): 25% ddos estão abaixo deste valor.\n",
        "Percentil 75(P75): 75% dos valores estão abaixo deste valor."
      ],
      "metadata": {
        "id": "vxNqJyAI-XjG"
      }
    },
    {
      "cell_type": "code",
      "source": [
        "per_25 = np.percentile(arr, 25)\n",
        "per_75 = np.percentile(arr, 75)\n",
        "print(per_25)\n",
        "print(per_75)"
      ],
      "metadata": {
        "colab": {
          "base_uri": "https://localhost:8080/"
        },
        "id": "Oi1VaHpo-eAL",
        "outputId": "24fe998e-0969-42fc-996f-8012f84426a2"
      },
      "execution_count": null,
      "outputs": [
        {
          "output_type": "stream",
          "name": "stdout",
          "text": [
            "2.0\n",
            "4.0\n"
          ]
        }
      ]
    },
    {
      "cell_type": "markdown",
      "source": [
        "Outras Funções Estatísticas"
      ],
      "metadata": {
        "id": "noAUBDgPBHtX"
      }
    },
    {
      "cell_type": "markdown",
      "source": [
        "*  Correlação"
      ],
      "metadata": {
        "id": "GUGbLyIlBawU"
      }
    },
    {
      "cell_type": "markdown",
      "source": [
        "\n",
        "\n",
        "1. Correlação Positiva: Diretamente proporcional\n",
        "\n",
        "2. Correlação Negativa: Inversamente proporcional\n",
        "\n",
        "3. Correlação Nula: Sem relação entre as grande\n",
        "\n"
      ],
      "metadata": {
        "id": "9xtZ72mGBrvW"
      }
    },
    {
      "cell_type": "code",
      "source": [
        "arr01 = np.array([1,2,3,4,5])\n",
        "arr02 = np.array([5,4,3,2,1])\n",
        "corr = np.corrcoef(arr01, arr02)\n",
        "print(corr)"
      ],
      "metadata": {
        "colab": {
          "base_uri": "https://localhost:8080/"
        },
        "id": "k04kuiDhBIMq",
        "outputId": "45df5ec1-40cd-4ccf-f858-cd1aba320b25"
      },
      "execution_count": null,
      "outputs": [
        {
          "output_type": "stream",
          "name": "stdout",
          "text": [
            "[[ 1. -1.]\n",
            " [-1.  1.]]\n"
          ]
        }
      ]
    },
    {
      "cell_type": "markdown",
      "source": [
        "### Exercicios <br>\n",
        "1) Dado o array scores = np.array([85, 88, 90, 78, 92, 94, 89, 84, 81, 79]), calcule a média, mediana e o desvio padrão.\n",
        "\n",
        "2) Para o mesmo array scores, determine os valores do 10º e 90º percentis.\n",
        "\n",
        "3) Calcule a variância de um array com os valores de 1 a 10.\n",
        "\n",
        "4) Dados os arrays x = np.array([1, 2, 3, 4, 5]) e y = np.array([5, 6, 7, 8, 9]), calcule o coeficiente de correlação entre eles."
      ],
      "metadata": {
        "id": "Gaojj2FkC_rw"
      }
    },
    {
      "cell_type": "code",
      "source": [
        "meuArray = np.array([85, 88, 90, 78, 92, 94, 89, 84, 81, 79])\n",
        "print(f'media: {np.mean(meuArray)}, mediana: {np.median(meuArray)}, desvio padrão: {np.std(meuArray)}')"
      ],
      "metadata": {
        "colab": {
          "base_uri": "https://localhost:8080/"
        },
        "id": "PDIjXtLSDH5C",
        "outputId": "8aaae8b0-cba7-4bfe-b4a9-ebcfa290f6ca"
      },
      "execution_count": null,
      "outputs": [
        {
          "output_type": "stream",
          "name": "stdout",
          "text": [
            "media: 86.0, mediana: 86.5, desvio padrão: 5.215361924162119\n"
          ]
        }
      ]
    },
    {
      "cell_type": "code",
      "source": [
        "per_10 = np.percentile(meuArray, 10)\n",
        "per_90 = np.percentile(meuArray, 90)\n",
        "print(f'percentil 10: {per_10}')\n",
        "print(f'percentil 90: {per_90}')"
      ],
      "metadata": {
        "colab": {
          "base_uri": "https://localhost:8080/"
        },
        "id": "yxodyrruDrKp",
        "outputId": "f7c97da6-04c8-4e67-f6c0-71f6d029aac9"
      },
      "execution_count": null,
      "outputs": [
        {
          "output_type": "stream",
          "name": "stdout",
          "text": [
            "percentil 10: 78.9\n",
            "percentil 90: 92.2\n"
          ]
        }
      ]
    },
    {
      "cell_type": "code",
      "source": [
        "arrVar = np.arange(1, 11)\n",
        "print(np.var(arrVar))"
      ],
      "metadata": {
        "colab": {
          "base_uri": "https://localhost:8080/"
        },
        "id": "0viZV7-aE4Wc",
        "outputId": "8876dd8e-0c4c-4174-a855-2f858997b894"
      },
      "execution_count": null,
      "outputs": [
        {
          "output_type": "stream",
          "name": "stdout",
          "text": [
            "8.25\n"
          ]
        }
      ]
    },
    {
      "cell_type": "code",
      "source": [
        "x = np.array([1, 2, 3, 4, 5])\n",
        "y = np.array([5, 6, 7, 8, 9])\n",
        "print(np.corrcoef(x, y))"
      ],
      "metadata": {
        "colab": {
          "base_uri": "https://localhost:8080/"
        },
        "id": "iXnPiLjoFNVd",
        "outputId": "27757124-7c78-431f-819f-c005a81f4379"
      },
      "execution_count": null,
      "outputs": [
        {
          "output_type": "stream",
          "name": "stdout",
          "text": [
            "[[1. 1.]\n",
            " [1. 1.]]\n"
          ]
        }
      ]
    },
    {
      "cell_type": "markdown",
      "source": [
        "## Operações com Matrizes e Vetores"
      ],
      "metadata": {
        "id": "CsEfQ6R3H58x"
      }
    },
    {
      "cell_type": "markdown",
      "source": [
        "* Produto Interno e Externo"
      ],
      "metadata": {
        "id": "yV0Qj5QKJT0R"
      }
    },
    {
      "cell_type": "code",
      "source": [
        "# produto interno (Produto Escalar)\n",
        "a = np.array([1, 2, 3])\n",
        "b = np.array([4, 5, 6])\n",
        "print(np.dot(a, b))\n",
        "# 1 * 4 + 2 * 5 + 3 * 6 = 4 + 10 + 18 = 32"
      ],
      "metadata": {
        "colab": {
          "base_uri": "https://localhost:8080/"
        },
        "id": "_3vRwaqIJZ8I",
        "outputId": "1f7c03d7-9ce3-49ac-b582-22e38102729a"
      },
      "execution_count": null,
      "outputs": [
        {
          "output_type": "stream",
          "name": "stdout",
          "text": [
            "32\n"
          ]
        }
      ]
    },
    {
      "cell_type": "code",
      "source": [
        "# produto externo (Produto Vetorial)\n",
        "cross = np.cross(a, b)\n",
        "print(cross)\n"
      ],
      "metadata": {
        "colab": {
          "base_uri": "https://localhost:8080/"
        },
        "id": "60G2HdVSJ6O1",
        "outputId": "37b9371b-5c41-49f0-e18f-a9eeaef40560"
      },
      "execution_count": null,
      "outputs": [
        {
          "output_type": "stream",
          "name": "stdout",
          "text": [
            "[-3  6 -3]\n"
          ]
        }
      ]
    },
    {
      "cell_type": "markdown",
      "source": [
        "* Produto de Matrizes"
      ],
      "metadata": {
        "id": "mBv9V0VZMDu-"
      }
    },
    {
      "cell_type": "code",
      "source": [
        "A = np.array([[1, 2], [3, 4]])\n",
        "B = np.array([[5, 6], [7, 8]])\n",
        "print(np.dot(A, B))\n"
      ],
      "metadata": {
        "colab": {
          "base_uri": "https://localhost:8080/"
        },
        "id": "9zExiaOGML1P",
        "outputId": "87fe817f-85b5-457e-a5a3-b6056870f2c6"
      },
      "execution_count": null,
      "outputs": [
        {
          "output_type": "stream",
          "name": "stdout",
          "text": [
            "[[19 22]\n",
            " [43 50]]\n"
          ]
        }
      ]
    },
    {
      "cell_type": "markdown",
      "source": [
        "Determinante e Traço\n",
        "* Determinante"
      ],
      "metadata": {
        "id": "LUE0ukNCOleD"
      }
    },
    {
      "cell_type": "code",
      "source": [
        "d = np.linalg.det(A)\n",
        "print(d)"
      ],
      "metadata": {
        "colab": {
          "base_uri": "https://localhost:8080/"
        },
        "id": "Zhy7KVgwOrkA",
        "outputId": "e5e538ce-34d1-4453-8f75-95bed8c18c0e"
      },
      "execution_count": null,
      "outputs": [
        {
          "output_type": "stream",
          "name": "stdout",
          "text": [
            "-2.0000000000000004\n"
          ]
        }
      ]
    },
    {
      "cell_type": "markdown",
      "source": [
        "* Traço"
      ],
      "metadata": {
        "id": "zMHaEn5YO_v5"
      }
    },
    {
      "cell_type": "code",
      "source": [
        "#  soma da diagonal\n",
        "# matriz A 1 + 4\n",
        "trace = np.trace(A)\n",
        "print(trace)"
      ],
      "metadata": {
        "colab": {
          "base_uri": "https://localhost:8080/"
        },
        "id": "_8xAuLI4PEUD",
        "outputId": "4b09fb72-9338-42af-a8da-f8a6e0d8cda3"
      },
      "execution_count": null,
      "outputs": [
        {
          "output_type": "stream",
          "name": "stdout",
          "text": [
            "5\n"
          ]
        }
      ]
    },
    {
      "cell_type": "markdown",
      "source": [
        "Sistemas lineares"
      ],
      "metadata": {
        "id": "Gv6JYiFIPkxO"
      }
    },
    {
      "cell_type": "code",
      "source": [
        "equacao = np.array([[2, 3], [1, -1]])\n",
        "resultado = np.array([5, 2])\n",
        "solucao = np.linalg.solve(equacao, resultado)\n",
        "print(solucao)\n"
      ],
      "metadata": {
        "colab": {
          "base_uri": "https://localhost:8080/"
        },
        "id": "f3wmY8PaPpzI",
        "outputId": "80adc921-2c33-4feb-874d-598cc3e49e01"
      },
      "execution_count": null,
      "outputs": [
        {
          "output_type": "stream",
          "name": "stdout",
          "text": [
            "[2.2 0.2]\n"
          ]
        }
      ]
    },
    {
      "cell_type": "markdown",
      "source": [
        "### Exercicios <br>\n",
        "1) Dado os vetores u = np.array([1, 3, 5]) e v = np.array([5, 2, 1]), calcule o produto interno e externo.\n",
        "\n",
        "2) Para a matriz M = np.array([[2, 3, 4], [1, 5, 6], [7, 8, 9]]), determine o determinante e o traço.\n",
        "\n",
        "3) Resolva o sistema de equações: 3x - y = 1 e 2x + 4y = 6.\n",
        "\n"
      ],
      "metadata": {
        "id": "eg7BZZ9SU7d2"
      }
    },
    {
      "cell_type": "code",
      "source": [
        "u = np.array([1, 3, 5])\n",
        "v = np.array([5, 2, 1])\n",
        "print(f'Produto interno (Produto Escalar): {np.dot(u, v)}')\n",
        "print(f'Produto externo (Produto Vetorial): {np.cross(u, v)}')"
      ],
      "metadata": {
        "colab": {
          "base_uri": "https://localhost:8080/"
        },
        "id": "MjbBSagyVFLm",
        "outputId": "8df95832-1eb0-450a-c998-d43241ff6f77"
      },
      "execution_count": null,
      "outputs": [
        {
          "output_type": "stream",
          "name": "stdout",
          "text": [
            "Produto interno (Produto Escalar): 16\n",
            "Produto externo (Produto Vetorial): [ -7  24 -13]\n"
          ]
        }
      ]
    },
    {
      "cell_type": "code",
      "source": [
        "m = np.array([[2, 3, 4], [1, 5, 6], [7, 8, 9]])\n",
        "print(f'Determinante: {np.linalg.det(m)}')\n",
        "print(f'Traço: {np.trace(m)}')"
      ],
      "metadata": {
        "colab": {
          "base_uri": "https://localhost:8080/"
        },
        "id": "iqsAobe_Vhkr",
        "outputId": "94d89ce1-d393-4f70-94c4-4c9b522a441e"
      },
      "execution_count": 35,
      "outputs": [
        {
          "output_type": "stream",
          "name": "stdout",
          "text": [
            "Determinante: -15.000000000000007\n",
            "Traço: 16\n"
          ]
        }
      ]
    },
    {
      "cell_type": "code",
      "source": [
        "eq = np.array([[3, -1], [2, 4]])\n",
        "res = np.array([1, 6])\n",
        "print(np.linalg.solve(eq, res))"
      ],
      "metadata": {
        "colab": {
          "base_uri": "https://localhost:8080/"
        },
        "id": "vsB0JA1QV9Ne",
        "outputId": "a928b870-bf88-45f6-fd0c-b17ac258d65e"
      },
      "execution_count": 36,
      "outputs": [
        {
          "output_type": "stream",
          "name": "stdout",
          "text": [
            "[0.71428571 1.14285714]\n"
          ]
        }
      ]
    },
    {
      "cell_type": "markdown",
      "source": [
        "## Médias: Geométrica, Harmônica"
      ],
      "metadata": {
        "id": "iiizpscLZFrZ"
      }
    },
    {
      "cell_type": "markdown",
      "source": [
        "Média Geométrica"
      ],
      "metadata": {
        "id": "2Nal681FZMtd"
      }
    },
    {
      "cell_type": "code",
      "source": [
        "from scipy.stats import gmean"
      ],
      "metadata": {
        "id": "21NQ4E-2ZQ9D"
      },
      "execution_count": 37,
      "outputs": []
    },
    {
      "cell_type": "code",
      "source": [
        "data  = np.array([1, 2, 3, 4, 5])\n",
        "media_geometrica = gmean(data)\n",
        "print(media_geometrica)"
      ],
      "metadata": {
        "colab": {
          "base_uri": "https://localhost:8080/"
        },
        "id": "DDmvfYCcZYr1",
        "outputId": "e147a620-20b8-4f6d-bd4c-bb07287b427e"
      },
      "execution_count": 38,
      "outputs": [
        {
          "output_type": "stream",
          "name": "stdout",
          "text": [
            "2.6051710846973517\n"
          ]
        }
      ]
    },
    {
      "cell_type": "markdown",
      "source": [
        "Media Harmonica"
      ],
      "metadata": {
        "id": "h3ehI2LTZjUd"
      }
    },
    {
      "cell_type": "code",
      "source": [
        "from scipy.stats import hmean\n",
        "Data = np.array([1, 2, 3, 4, 5])\n",
        "media_harmonica = hmean(data)\n",
        "print(media_harmonica)"
      ],
      "metadata": {
        "colab": {
          "base_uri": "https://localhost:8080/"
        },
        "id": "VdTOeMczZoQS",
        "outputId": "ba804df5-c052-4e6e-e660-89bfeb0d3c33"
      },
      "execution_count": 39,
      "outputs": [
        {
          "output_type": "stream",
          "name": "stdout",
          "text": [
            "2.18978102189781\n"
          ]
        }
      ]
    },
    {
      "cell_type": "markdown",
      "source": [
        "### Exercicios <br>\n",
        "1) Calcule a média aritmética, geométrica e harmônica dos valores [3, 9, 27].\n",
        "\n",
        "2) Dado um conjunto de notas escolares [85, 90, 78, 92, 88], calcule a média aritmética.\n",
        "\n",
        "3) Para um conjunto de taxas de crescimento [1.05, 1.1, 1.15], calcule a média geométrica."
      ],
      "metadata": {
        "id": "J1PtGPYUbm3P"
      }
    },
    {
      "cell_type": "code",
      "source": [
        "arr = np.array([3, 9, 27])\n",
        "print(np.mean(arr))\n",
        "print(gmean(arr))\n",
        "print(hmean(arr))"
      ],
      "metadata": {
        "colab": {
          "base_uri": "https://localhost:8080/"
        },
        "id": "lCrRQklDbxiM",
        "outputId": "b0d1da59-c682-4344-fbf6-c40fb5574af3"
      },
      "execution_count": 43,
      "outputs": [
        {
          "output_type": "stream",
          "name": "stdout",
          "text": [
            "13.0\n",
            "9.000000000000002\n",
            "6.230769230769231\n"
          ]
        }
      ]
    },
    {
      "cell_type": "code",
      "source": [
        "grade = np.array([85, 90, 78, 92, 88])\n",
        "print(np.mean(grade))"
      ],
      "metadata": {
        "colab": {
          "base_uri": "https://localhost:8080/"
        },
        "id": "CUQ3NRlDcQp7",
        "outputId": "1015f00e-5af5-4d78-915b-6ea56e1e1cd9"
      },
      "execution_count": 44,
      "outputs": [
        {
          "output_type": "stream",
          "name": "stdout",
          "text": [
            "86.6\n"
          ]
        }
      ]
    },
    {
      "cell_type": "code",
      "source": [
        "taxa = np.array([1.05, 1.1, 1.15])\n",
        "print(gmean(taxa))"
      ],
      "metadata": {
        "colab": {
          "base_uri": "https://localhost:8080/"
        },
        "id": "sZbF1qXLcZaA",
        "outputId": "4c51d6fb-d771-4e2f-e7d7-099de119604c"
      },
      "execution_count": 45,
      "outputs": [
        {
          "output_type": "stream",
          "name": "stdout",
          "text": [
            "1.0992419018963262\n"
          ]
        }
      ]
    }
  ]
}