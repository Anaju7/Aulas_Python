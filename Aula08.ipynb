{
  "nbformat": 4,
  "nbformat_minor": 0,
  "metadata": {
    "colab": {
      "provenance": [],
      "authorship_tag": "ABX9TyMoJMgKsxhBt1O6ym/dZolP",
      "include_colab_link": true
    },
    "kernelspec": {
      "name": "python3",
      "display_name": "Python 3"
    },
    "language_info": {
      "name": "python"
    }
  },
  "cells": [
    {
      "cell_type": "markdown",
      "metadata": {
        "id": "view-in-github",
        "colab_type": "text"
      },
      "source": [
        "<a href=\"https://colab.research.google.com/github/Anaju7/Aulas_Python/blob/main/Aula08.ipynb\" target=\"_parent\"><img src=\"https://colab.research.google.com/assets/colab-badge.svg\" alt=\"Open In Colab\"/></a>"
      ]
    },
    {
      "cell_type": "markdown",
      "source": [
        "# Numpy"
      ],
      "metadata": {
        "id": "sMvyfVu0tq8L"
      }
    },
    {
      "cell_type": "markdown",
      "source": [
        "Conceitos basicos <br>\n",
        "Criação e manipulação com numpy"
      ],
      "metadata": {
        "id": "cQr3xabyt00K"
      }
    },
    {
      "cell_type": "code",
      "execution_count": null,
      "metadata": {
        "colab": {
          "base_uri": "https://localhost:8080/"
        },
        "id": "PzpfuVIqtpjS",
        "outputId": "0c966717-b1d0-425b-afea-079632c5677e"
      },
      "outputs": [
        {
          "output_type": "stream",
          "name": "stdout",
          "text": [
            "[1 2 3 4 5]\n",
            "<class 'numpy.ndarray'>\n"
          ]
        }
      ],
      "source": [
        "import numpy as np\n",
        "\n",
        "\n",
        "# criação de arrays\n",
        "# a partir de uma lista\n",
        "\n",
        "lista = [1, 2, 3, 4, 5]\n",
        "array = np.array(lista)\n",
        "print(array)\n",
        "print(type(array))"
      ]
    },
    {
      "cell_type": "code",
      "source": [
        "zeros = np.zeros(5)\n",
        "print(zeros)"
      ],
      "metadata": {
        "colab": {
          "base_uri": "https://localhost:8080/"
        },
        "id": "tEjz7jBbvmEN",
        "outputId": "4e7b13eb-594d-4651-e786-c5e060dcb97c"
      },
      "execution_count": null,
      "outputs": [
        {
          "output_type": "stream",
          "name": "stdout",
          "text": [
            "[0. 0. 0. 0. 0.]\n"
          ]
        }
      ]
    },
    {
      "cell_type": "code",
      "source": [
        "ones = np.ones(5)\n",
        "print(ones)"
      ],
      "metadata": {
        "colab": {
          "base_uri": "https://localhost:8080/"
        },
        "id": "BY0VOLh1vuAP",
        "outputId": "8838fe63-53c9-432e-8df5-08bfa62c02a3"
      },
      "execution_count": null,
      "outputs": [
        {
          "output_type": "stream",
          "name": "stdout",
          "text": [
            "[1. 1. 1. 1. 1.]\n"
          ]
        }
      ]
    },
    {
      "cell_type": "markdown",
      "source": [
        "#### Sequencias"
      ],
      "metadata": {
        "id": "bG-4BszVwCIJ"
      }
    },
    {
      "cell_type": "code",
      "source": [
        "# gera *arange* numeros aleatorios\n",
        "seqArray = np.arange(10)\n",
        "print(seqArray)"
      ],
      "metadata": {
        "colab": {
          "base_uri": "https://localhost:8080/"
        },
        "id": "Xl_vnGh-wBK9",
        "outputId": "3915fd28-ecc5-4e4c-aff2-9b93a0428e09"
      },
      "execution_count": null,
      "outputs": [
        {
          "output_type": "stream",
          "name": "stdout",
          "text": [
            "[0 1 2 3 4 5 6 7 8 9]\n"
          ]
        }
      ]
    },
    {
      "cell_type": "markdown",
      "source": [
        "#### Manipulações de array"
      ],
      "metadata": {
        "id": "-XzlcZvuwrcb"
      }
    },
    {
      "cell_type": "markdown",
      "source": [
        "redimensionamento:"
      ],
      "metadata": {
        "id": "0VKT-fmjxFcw"
      }
    },
    {
      "cell_type": "code",
      "source": [
        "meuArr = np.array([1, 2, 3, 4, 5, 6])\n",
        "matriz = meuArr.reshape(2, 3)\n",
        "print(matriz)"
      ],
      "metadata": {
        "colab": {
          "base_uri": "https://localhost:8080/"
        },
        "id": "S-sx--Y5wZlF",
        "outputId": "f576afde-84f7-4a58-98d3-6ff1ac2f9bd1"
      },
      "execution_count": null,
      "outputs": [
        {
          "output_type": "stream",
          "name": "stdout",
          "text": [
            "[[1 2 3]\n",
            " [4 5 6]]\n"
          ]
        }
      ]
    },
    {
      "cell_type": "markdown",
      "source": [
        "Acesso a elementos:"
      ],
      "metadata": {
        "id": "pCvjKbl7yEXO"
      }
    },
    {
      "cell_type": "code",
      "source": [
        "print(matriz[1][2])"
      ],
      "metadata": {
        "colab": {
          "base_uri": "https://localhost:8080/"
        },
        "id": "Jq0mqT8yyGxb",
        "outputId": "e61eefe3-2ae4-4cd5-e328-0f4298cd9021"
      },
      "execution_count": null,
      "outputs": [
        {
          "output_type": "stream",
          "name": "stdout",
          "text": [
            "6\n"
          ]
        }
      ]
    },
    {
      "cell_type": "markdown",
      "source": [
        "operações matematicas basicas"
      ],
      "metadata": {
        "id": "6QNOOg4QyR_J"
      }
    },
    {
      "cell_type": "code",
      "source": [
        "a = np.array([1, 2, 3])\n",
        "b = np.array([4, 5, 6])\n",
        "\n",
        "c = a + b\n",
        "print(c)\n",
        "print(a * b)"
      ],
      "metadata": {
        "colab": {
          "base_uri": "https://localhost:8080/"
        },
        "id": "jayefeVOyUyd",
        "outputId": "d72632d8-31de-4eab-be24-9cbc963a1f84"
      },
      "execution_count": null,
      "outputs": [
        {
          "output_type": "stream",
          "name": "stdout",
          "text": [
            "[5 7 9]\n",
            "[ 4 10 18]\n"
          ]
        }
      ]
    },
    {
      "cell_type": "markdown",
      "source": [
        "##QUESTÕES"
      ],
      "metadata": {
        "id": "lMZt-Rek0U3F"
      }
    },
    {
      "cell_type": "code",
      "source": [
        "array = np.arange(10, 50)\n",
        "print(array)\n"
      ],
      "metadata": {
        "colab": {
          "base_uri": "https://localhost:8080/"
        },
        "id": "kZs7bmIB0UMa",
        "outputId": "76f6b987-f37d-4461-f5a9-e7463118ef41"
      },
      "execution_count": null,
      "outputs": [
        {
          "output_type": "stream",
          "name": "stdout",
          "text": [
            "[10 11 12 13 14 15 16 17 18 19 20 21 22 23 24 25 26 27 28 29 30 31 32 33\n",
            " 34 35 36 37 38 39 40 41 42 43 44 45 46 47 48 49]\n"
          ]
        }
      ]
    },
    {
      "cell_type": "code",
      "source": [
        "arr = np.arange(16).reshape(4, 4)\n",
        "print(arr)"
      ],
      "metadata": {
        "colab": {
          "base_uri": "https://localhost:8080/"
        },
        "id": "RhPDeTQw17D9",
        "outputId": "8e9c79ab-ba31-4439-ec57-63498ecf1231"
      },
      "execution_count": null,
      "outputs": [
        {
          "output_type": "stream",
          "name": "stdout",
          "text": [
            "[[ 0  1  2  3]\n",
            " [ 4  5  6  7]\n",
            " [ 8  9 10 11]\n",
            " [12 13 14 15]]\n"
          ]
        }
      ]
    },
    {
      "cell_type": "code",
      "source": [
        "a = np.array([2,4,6,8,10])\n",
        "b = a**2\n",
        "print(b)\n"
      ],
      "metadata": {
        "colab": {
          "base_uri": "https://localhost:8080/"
        },
        "id": "WZO9ONI02V2T",
        "outputId": "4f810d28-ae00-43be-919f-b83ad42af41d"
      },
      "execution_count": null,
      "outputs": [
        {
          "output_type": "stream",
          "name": "stdout",
          "text": [
            "[  4  16  36  64 100]\n"
          ]
        }
      ]
    },
    {
      "cell_type": "code",
      "source": [
        "arr = np.arange(3)\n",
        "\n",
        "matrizA = np.array([arr, arr, arr])\n",
        "matrizb = np.array([arr, arr, arr])\n",
        "print(matrizA + matrizb)\n"
      ],
      "metadata": {
        "colab": {
          "base_uri": "https://localhost:8080/"
        },
        "id": "hFwAYKpR3Yj-",
        "outputId": "dc6b4a9b-2a46-4bd6-be60-5225e6bc9bef"
      },
      "execution_count": null,
      "outputs": [
        {
          "output_type": "stream",
          "name": "stdout",
          "text": [
            "[[0 2 4]\n",
            " [0 2 4]\n",
            " [0 2 4]]\n"
          ]
        }
      ]
    }
  ]
}