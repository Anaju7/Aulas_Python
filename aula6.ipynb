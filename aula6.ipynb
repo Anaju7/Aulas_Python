{
  "nbformat": 4,
  "nbformat_minor": 0,
  "metadata": {
    "colab": {
      "provenance": [],
      "authorship_tag": "ABX9TyNajW8coXRG0z3dXWZ4d3I5",
      "include_colab_link": true
    },
    "kernelspec": {
      "name": "python3",
      "display_name": "Python 3"
    },
    "language_info": {
      "name": "python"
    }
  },
  "cells": [
    {
      "cell_type": "markdown",
      "metadata": {
        "id": "view-in-github",
        "colab_type": "text"
      },
      "source": [
        "<a href=\"https://colab.research.google.com/github/Anaju7/Aulas_Python/blob/main/aula6.ipynb\" target=\"_parent\"><img src=\"https://colab.research.google.com/assets/colab-badge.svg\" alt=\"Open In Colab\"/></a>"
      ]
    },
    {
      "cell_type": "markdown",
      "source": [
        "#Aula 6 - 03/10/2024"
      ],
      "metadata": {
        "id": "7Pt5wUwqYkxv"
      }
    },
    {
      "cell_type": "markdown",
      "source": [
        "## Tratativas de erro"
      ],
      "metadata": {
        "id": "-JjGBe-sYtYu"
      }
    },
    {
      "cell_type": "code",
      "execution_count": null,
      "metadata": {
        "colab": {
          "base_uri": "https://localhost:8080/"
        },
        "id": "pBAoL0AIYj_8",
        "outputId": "658b5acc-73d7-478b-f901-ca3161a5d15b"
      },
      "outputs": [
        {
          "output_type": "stream",
          "name": "stdout",
          "text": [
            "digite um numero: r\n",
            "valor invalido\n"
          ]
        }
      ],
      "source": [
        "try:\n",
        "  n = int(input(\"digite um numero: \"))\n",
        "except:\n",
        "  print(\"valor invalido\")"
      ]
    },
    {
      "cell_type": "code",
      "source": [],
      "metadata": {
        "id": "Gjmrv-d2ZifM"
      },
      "execution_count": null,
      "outputs": []
    },
    {
      "cell_type": "markdown",
      "source": [
        "### Questão 1\n"
      ],
      "metadata": {
        "id": "obxtKWrEcSxT"
      }
    },
    {
      "cell_type": "code",
      "source": [
        "list = []\n",
        "\n",
        "try:\n",
        "  v1 = float(input(\"digite o primeiro valor: \"))\n",
        "  v2 = float(input(\"digite o segundo valor: \"))\n",
        "  list.append(v1)\n",
        "  list.append(v2)\n",
        "  div = list[0] / list[1]\n",
        "except ValueError:\n",
        "  print(\"valor incorreto\")\n",
        "except ZeroDivisionError:\n",
        "  print(\"erro na divisão\")\n",
        "except IndexError:\n",
        "  print(\"erro em um dos valores\")\n",
        "except KeyboardInterrupt:\n",
        "  print(\"função interrompida\")\n",
        "else:\n",
        "  print(f'divisão dos valores {v1} por {v2} é igual a {div}')\n",
        "\n",
        "\n"
      ],
      "metadata": {
        "colab": {
          "base_uri": "https://localhost:8080/"
        },
        "id": "fe_wMnBTcWTC",
        "outputId": "5a5a3ac4-10b4-488d-be37-97ce6804811e"
      },
      "execution_count": null,
      "outputs": [
        {
          "output_type": "stream",
          "name": "stdout",
          "text": [
            "digite o primeiro valor: 9\n",
            "digite o segundo valor: 0\n",
            "erro na divisão\n"
          ]
        }
      ]
    },
    {
      "cell_type": "markdown",
      "source": [
        "## Expressões Regulares\n"
      ],
      "metadata": {
        "id": "gEDjH6W9ifDG"
      }
    },
    {
      "cell_type": "code",
      "source": [
        "import re\n",
        "# search só retorna uma ocorrencia\n",
        "\n",
        "frase = 'O carro que passou por cima do cachorro tem a placa FRT-3033'\n",
        "\n",
        "re.search('[A-Za-z]{3}-\\d{4}', frase)\n"
      ],
      "metadata": {
        "colab": {
          "base_uri": "https://localhost:8080/"
        },
        "id": "hdbu5_D2i4Un",
        "outputId": "ce0a9329-4f96-470a-d048-af313813b5e8"
      },
      "execution_count": 2,
      "outputs": [
        {
          "output_type": "execute_result",
          "data": {
            "text/plain": [
              "<re.Match object; span=(52, 60), match='FRT-3033'>"
            ]
          },
          "metadata": {},
          "execution_count": 2
        }
      ]
    },
    {
      "cell_type": "code",
      "source": [
        "email = 'Fale com Gabi pelo email gabi@teste.com'\n",
        "\n",
        "re.search('[A-Za-z]{4}@[A-Za-z]{5}.[A-Za-z]{3}', email)"
      ],
      "metadata": {
        "colab": {
          "base_uri": "https://localhost:8080/"
        },
        "id": "9b9VE7ddlsSt",
        "outputId": "125e4789-5bc2-42d4-80a8-c046903b64c7"
      },
      "execution_count": null,
      "outputs": [
        {
          "output_type": "execute_result",
          "data": {
            "text/plain": [
              "<re.Match object; span=(25, 39), match='gabi@teste.com'>"
            ]
          },
          "metadata": {},
          "execution_count": 14
        }
      ]
    },
    {
      "cell_type": "code",
      "source": [
        "# match só retorna se o item estiver no inicio\n",
        "\n",
        "frase2 = 'ABC-1984 é a placa do carro que bateu em Clara'\n",
        "\n",
        "print(re.match('[A-Za-z]{3}-\\d{4}', frase2))"
      ],
      "metadata": {
        "colab": {
          "base_uri": "https://localhost:8080/"
        },
        "id": "A8t_xyxwpn9N",
        "outputId": "33b2fee2-3ffd-432b-c8d2-29121f22c525"
      },
      "execution_count": null,
      "outputs": [
        {
          "output_type": "stream",
          "name": "stdout",
          "text": [
            "<re.Match object; span=(0, 8), match='ABC-1984'>\n"
          ]
        }
      ]
    },
    {
      "cell_type": "code",
      "source": [
        "# findall percorre toda a frase em busca dos parametros\n",
        "\n",
        "fone = 'Meu número de telefone atual é (42)33345-9875. O número (81)97534-1221 é o antigo'\n",
        "print(re.findall('\\(\\d{2}\\)\\d{4,5}-\\d{4}', fone))"
      ],
      "metadata": {
        "colab": {
          "base_uri": "https://localhost:8080/"
        },
        "id": "Pw-73sRwpzL7",
        "outputId": "825872ec-1a2b-4da8-ce3f-01563b18b575"
      },
      "execution_count": null,
      "outputs": [
        {
          "output_type": "stream",
          "name": "stdout",
          "text": [
            "['(42)33345-9875', '(81)97534-1221']\n"
          ]
        }
      ]
    },
    {
      "cell_type": "markdown",
      "source": [
        "## Questão 1"
      ],
      "metadata": {
        "id": "f66DiOBJrd7a"
      }
    },
    {
      "cell_type": "code",
      "source": [
        "texto = \"Lorem Ipsum é simplesmente um texto modelo da indústria tipográfica e de (81)97534-1221. Lorem Ipsum tem sido o texto modelo padrão da indústria desde os anos 1500, quando um impressor desconhecido pegou uma galera de tipos e os embaralhou para fazer um livro de espécimes de tipos. Ele sobreviveu não apenas cinco séculos, mas também ao salto para a composição 50920-198, permanecendo essencialmente inalterado. Foi popularizado na década de 1960 com o lançamento das folhas Letraset contendo http://www.toyota.com.br do Lorem Ipsum e, mais recentemente, com softwares de editoração eletrônica como o Aldus PageMaker, incluindo versões do Lorem Ipsum. \"\n",
        "# https://www.toyota.com.br\n",
        "print(re.findall('\\(\\d{2}\\)\\d{4,5}-\\d{4}',texto))\n",
        "print(re.findall('\\d{5}-\\d{3}',texto))\n",
        "print(re.findall('https?://\\w+.\\w+.com.\\w+',texto))"
      ],
      "metadata": {
        "colab": {
          "base_uri": "https://localhost:8080/"
        },
        "id": "Pz4HKKn9rjWO",
        "outputId": "35245dca-4dc0-4476-b4d3-eb8618c13ba3"
      },
      "execution_count": null,
      "outputs": [
        {
          "output_type": "stream",
          "name": "stdout",
          "text": [
            "['(81)97534-1221']\n",
            "['97534-122', '50920-198']\n",
            "['http://www.toyota.com.br']\n"
          ]
        }
      ]
    },
    {
      "cell_type": "code",
      "source": [
        "senha = input(\"digite a senha: \")\n",
        "\n",
        "def validar(senha):\n",
        "  if len(senha) < 8:\n",
        "    print(\"a senha não tem 8 caracteres\")\n",
        "  elif not re.search('[A-Z]', senha):\n",
        "    print(\"a senha não tem letra maiuscula\")\n",
        "  elif not re.search('[a-z]', senha):\n",
        "    print(\"a senha não tem letra minuscula\")\n",
        "  elif not re.search('\\d',senha):\n",
        "    print(\"a senha precisa ter pelo menos um numero\")\n",
        "  elif not re.search('[@#$%^&*()_+!\\-=\\[\\]{};:,.<>?]', senha):\n",
        "    print(\"a senha precisa ter pelo menos um caracter especial\")\n",
        "  else:\n",
        "    print(\"Senha valida\")\n",
        "\n",
        "validar(senha)\n"
      ],
      "metadata": {
        "colab": {
          "base_uri": "https://localhost:8080/"
        },
        "id": "pcuOL8qvvRI4",
        "outputId": "f9e38fca-f3fc-41c4-9281-ac759f6baa3d"
      },
      "execution_count": 6,
      "outputs": [
        {
          "output_type": "stream",
          "name": "stdout",
          "text": [
            "digite a senha: anaJu123!\n",
            "Senha valida\n"
          ]
        }
      ]
    },
    {
      "cell_type": "code",
      "source": [
        "url = input(\"digite a url: \")\n",
        "\n",
        "def extrair_dados_url(url):\n",
        "  protocolo = re.match('\\w+', url)\n",
        "  dominio = re.search('(?<=:\\/\\/)([^/]+)', url)\n",
        "  path = re.search('(?<=\\/)', url)\n",
        "  print(f'dados da URL =  protocolo: {protocolo}, dominio: {dominio}, path: {path}')\n",
        "\n",
        "extrair_dados_url(url)"
      ],
      "metadata": {
        "colab": {
          "base_uri": "https://localhost:8080/"
        },
        "id": "lGY7Fgicu_kx",
        "outputId": "5b1774e0-dd0d-4c1d-b961-5146a8e6aa62"
      },
      "execution_count": 40,
      "outputs": [
        {
          "output_type": "stream",
          "name": "stdout",
          "text": [
            "digite a url: ftp://files.example.com/downloads\n",
            "dados da URL =  protocolo: <re.Match object; span=(0, 3), match='ftp'>, dominio: <re.Match object; span=(6, 23), match='files.example.com'>, path: <re.Match object; span=(5, 5), match=''>\n"
          ]
        }
      ]
    }
  ]
}